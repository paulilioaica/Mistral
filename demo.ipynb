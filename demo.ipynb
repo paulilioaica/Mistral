{
 "cells": [
  {
   "cell_type": "code",
   "execution_count": 2,
   "metadata": {},
   "outputs": [],
   "source": [
    "import torch\n",
    "import sys  \n",
    "import os\n",
    "sys.path.append(os.path.join(os.getcwd(), 'src'))  "
   ]
  },
  {
   "cell_type": "code",
   "execution_count": 2,
   "metadata": {},
   "outputs": [],
   "source": [
    "size = 9\n",
    "window_size = 3"
   ]
  },
  {
   "cell_type": "code",
   "execution_count": 3,
   "metadata": {},
   "outputs": [],
   "source": [
    "def get_sliding_window_mask(size, window_size):\n",
    "        # device = next(self.parameters()).device\n",
    "        mask =  torch.triu(torch.ones(size, size), diagonal=-window_size) \\\n",
    "            * torch.tril(torch.ones(size, size), diagonal=window_size)  \n",
    "        return mask"
   ]
  },
  {
   "cell_type": "code",
   "execution_count": 4,
   "metadata": {},
   "outputs": [
    {
     "data": {
      "text/plain": [
       "tensor([[1., 1., 1., 1., 0., 0., 0., 0., 0.],\n",
       "        [1., 1., 1., 1., 1., 0., 0., 0., 0.],\n",
       "        [1., 1., 1., 1., 1., 1., 0., 0., 0.],\n",
       "        [1., 1., 1., 1., 1., 1., 1., 0., 0.],\n",
       "        [0., 1., 1., 1., 1., 1., 1., 1., 0.],\n",
       "        [0., 0., 1., 1., 1., 1., 1., 1., 1.],\n",
       "        [0., 0., 0., 1., 1., 1., 1., 1., 1.],\n",
       "        [0., 0., 0., 0., 1., 1., 1., 1., 1.],\n",
       "        [0., 0., 0., 0., 0., 1., 1., 1., 1.]])"
      ]
     },
     "execution_count": 4,
     "metadata": {},
     "output_type": "execute_result"
    }
   ],
   "source": [
    "get_sliding_window_mask(size, window_size)"
   ]
  },
  {
   "cell_type": "code",
   "execution_count": 5,
   "metadata": {},
   "outputs": [],
   "source": [
    "from mistral import Mistral"
   ]
  },
  {
   "cell_type": "code",
   "execution_count": 6,
   "metadata": {},
   "outputs": [],
   "source": [
    "#decoder_layers_num, num_hidden, num_heads, num_kv_heads, seq_len, vocab_size\n",
    "mistral = Mistral(decoder_layers_num=2, num_hidden=16, num_heads=4, num_kv_heads=2, seq_len=256, vocab_size=100, window_size=3)"
   ]
  },
  {
   "cell_type": "code",
   "execution_count": 7,
   "metadata": {},
   "outputs": [],
   "source": [
    "x = torch.randint(0, 100, (1, 256))"
   ]
  },
  {
   "cell_type": "code",
   "execution_count": 8,
   "metadata": {},
   "outputs": [
    {
     "name": "stdout",
     "output_type": "stream",
     "text": [
      "4.965598106384277\n",
      "4.22400426864624\n",
      "3.4104268550872803\n",
      "2.6286110877990723\n",
      "2.1801888942718506\n",
      "1.8441195487976074\n",
      "1.5599161386489868\n",
      "1.3183443546295166\n",
      "1.100259780883789\n",
      "0.8966647982597351\n",
      "0.7105280756950378\n",
      "0.5485472083091736\n",
      "0.4149334728717804\n",
      "0.3095773160457611\n",
      "0.2294013798236847\n",
      "0.16988615691661835\n",
      "0.12637744843959808\n",
      "0.0947968140244484\n",
      "0.07188931107521057\n",
      "0.05520189553499222\n"
     ]
    }
   ],
   "source": [
    "#quick train loop\n",
    "optimizer = torch.optim.Adam(mistral.parameters(), lr=0.01)\n",
    "criterion = torch.nn.CrossEntropyLoss()\n",
    "for i in range(20):\n",
    "    optimizer.zero_grad()\n",
    "\n",
    "    y_pred = mistral(x)\n",
    "    y_target = torch.ones_like(y_pred).argmax(-1)\n",
    "\n",
    "    loss = criterion(y_pred.view(-1, 100), y_target.view(-1))\n",
    "    loss.backward()\n",
    "    optimizer.step()\n",
    "    print(loss.item())\n",
    "\n"
   ]
  },
  {
   "cell_type": "code",
   "execution_count": 9,
   "metadata": {},
   "outputs": [
    {
     "data": {
      "text/plain": [
       "tensor([[[9.5798e-01, 4.4637e-04, 9.5127e-04,  ..., 1.2909e-03,\n",
       "          2.2179e-04, 1.6584e-04],\n",
       "         [9.5784e-01, 4.3668e-04, 9.3754e-04,  ..., 1.2864e-03,\n",
       "          2.2223e-04, 1.6566e-04],\n",
       "         [9.5799e-01, 4.4060e-04, 9.4977e-04,  ..., 1.2800e-03,\n",
       "          2.1937e-04, 1.6301e-04],\n",
       "         ...,\n",
       "         [9.5810e-01, 4.4656e-04, 9.4251e-04,  ..., 1.2643e-03,\n",
       "          2.2554e-04, 1.6542e-04],\n",
       "         [9.5792e-01, 4.3743e-04, 9.2451e-04,  ..., 1.2931e-03,\n",
       "          2.2505e-04, 1.6592e-04],\n",
       "         [9.5798e-01, 4.3908e-04, 9.2559e-04,  ..., 1.2780e-03,\n",
       "          2.2215e-04, 1.6429e-04]]], grad_fn=<SoftmaxBackward0>)"
      ]
     },
     "execution_count": 9,
     "metadata": {},
     "output_type": "execute_result"
    }
   ],
   "source": [
    "mistral(x).softmax(-1)"
   ]
  },
  {
   "cell_type": "code",
   "execution_count": 4,
   "metadata": {},
   "outputs": [
    {
     "name": "stdout",
     "output_type": "stream",
     "text": [
      "torch.Size([1, 256, 100])\n"
     ]
    }
   ],
   "source": [
    "from mistral import Mistral\n",
    "\n",
    "decoder_layers_num = 2\n",
    "num_hidden = 16\n",
    "num_heads = 4\n",
    "num_kv_heads = 2\n",
    "seq_len = 256\n",
    "vocab_size = 100\n",
    "window_size = 3\n",
    "\n",
    "mistral = Mistral(decoder_layers_num, num_hidden, num_heads, num_kv_heads, seq_len, vocab_size, window_size)\n",
    "\n",
    "x = torch.randint(0, vocab_size, (1, seq_len))\n",
    "\n",
    "output = mistral(x)\n",
    "print(output.shape)"
   ]
  }
 ],
 "metadata": {
  "kernelspec": {
   "display_name": "Python 3",
   "language": "python",
   "name": "python3"
  },
  "language_info": {
   "codemirror_mode": {
    "name": "ipython",
    "version": 3
   },
   "file_extension": ".py",
   "mimetype": "text/x-python",
   "name": "python",
   "nbconvert_exporter": "python",
   "pygments_lexer": "ipython3",
   "version": "3.10.11"
  }
 },
 "nbformat": 4,
 "nbformat_minor": 2
}
