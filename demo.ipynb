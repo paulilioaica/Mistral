{
 "cells": [
  {
   "cell_type": "code",
   "execution_count": 2,
   "metadata": {},
   "outputs": [],
   "source": [
    "import torch\n",
    "import sys  \n",
    "import os\n",
    "sys.path.append(os.path.join(os.getcwd(), 'src'))  "
   ]
  },
  {
   "cell_type": "code",
   "execution_count": 1,
   "metadata": {},
   "outputs": [],
   "source": [
    "size = 9\n",
    "window_size = 3"
   ]
  },
  {
   "cell_type": "code",
   "execution_count": 18,
   "metadata": {},
   "outputs": [],
   "source": [
    "def get_sliding_window_mask(size, window_size):\n",
    "        # device = next(self.parameters()).device\n",
    "        mask =  torch.tril(torch.ones(size, size), diagonal=-1) * torch.triu(torch.ones(size, size), diagonal=-window_size)\n",
    "        return mask"
   ]
  },
  {
   "cell_type": "code",
   "execution_count": 19,
   "metadata": {},
   "outputs": [
    {
     "data": {
      "text/plain": [
       "tensor([[0., 0., 0., 0., 0., 0., 0., 0., 0.],\n",
       "        [1., 0., 0., 0., 0., 0., 0., 0., 0.],\n",
       "        [1., 1., 0., 0., 0., 0., 0., 0., 0.],\n",
       "        [1., 1., 1., 0., 0., 0., 0., 0., 0.],\n",
       "        [0., 1., 1., 1., 0., 0., 0., 0., 0.],\n",
       "        [0., 0., 1., 1., 1., 0., 0., 0., 0.],\n",
       "        [0., 0., 0., 1., 1., 1., 0., 0., 0.],\n",
       "        [0., 0., 0., 0., 1., 1., 1., 0., 0.],\n",
       "        [0., 0., 0., 0., 0., 1., 1., 1., 0.]])"
      ]
     },
     "execution_count": 19,
     "metadata": {},
     "output_type": "execute_result"
    }
   ],
   "source": [
    "get_sliding_window_mask(size, window_size)"
   ]
  },
  {
   "cell_type": "code",
   "execution_count": 20,
   "metadata": {},
   "outputs": [],
   "source": [
    "from mistral import Mistral"
   ]
  },
  {
   "cell_type": "code",
   "execution_count": 22,
   "metadata": {},
   "outputs": [],
   "source": [
    "#decoder_layers_num, num_hidden, num_heads, num_kv_heads, seq_len, vocab_size\n",
    "mistral = Mistral(decoder_layers_num=2, num_hidden=16, num_heads=4, num_kv_heads=2, seq_len=256, vocab_size=100, window_size=3)"
   ]
  },
  {
   "cell_type": "code",
   "execution_count": 23,
   "metadata": {},
   "outputs": [],
   "source": [
    "x = torch.randint(0, 100, (1, 256))"
   ]
  },
  {
   "cell_type": "code",
   "execution_count": 24,
   "metadata": {},
   "outputs": [
    {
     "name": "stdout",
     "output_type": "stream",
     "text": [
      "4.734148979187012\n",
      "4.1822052001953125\n",
      "3.6319704055786133\n",
      "2.9809517860412598\n",
      "2.4015746116638184\n",
      "1.9923292398452759\n",
      "1.6733436584472656\n",
      "1.396531581878662\n",
      "1.1486151218414307\n",
      "0.9254551529884338\n",
      "0.7283006310462952\n",
      "0.5612663626670837\n",
      "0.42525675892829895\n",
      "0.3180181086063385\n",
      "0.2357441931962967\n",
      "0.17420902848243713\n",
      "0.12894783914089203\n",
      "0.09605712443590164\n",
      "0.07228013128042221\n",
      "0.05505666509270668\n"
     ]
    }
   ],
   "source": [
    "#quick train loop\n",
    "optimizer = torch.optim.Adam(mistral.parameters(), lr=0.01)\n",
    "criterion = torch.nn.CrossEntropyLoss()\n",
    "for i in range(20):\n",
    "    optimizer.zero_grad()\n",
    "\n",
    "    y_pred = mistral(x)\n",
    "    y_target = torch.ones_like(y_pred).argmax(-1)\n",
    "\n",
    "    loss = criterion(y_pred.view(-1, 100), y_target.view(-1))\n",
    "    loss.backward()\n",
    "    optimizer.step()\n",
    "    print(loss.item())\n",
    "\n"
   ]
  },
  {
   "cell_type": "code",
   "execution_count": 25,
   "metadata": {},
   "outputs": [
    {
     "data": {
      "text/plain": [
       "tensor([[[9.5845e-01, 1.9170e-04, 6.1487e-04,  ..., 5.1010e-04,\n",
       "          1.2186e-03, 3.1502e-04],\n",
       "         [9.5845e-01, 1.9327e-04, 6.3100e-04,  ..., 5.1314e-04,\n",
       "          1.1920e-03, 3.0807e-04],\n",
       "         [9.5835e-01, 1.9091e-04, 6.2316e-04,  ..., 5.1816e-04,\n",
       "          1.2034e-03, 3.0992e-04],\n",
       "         ...,\n",
       "         [9.5840e-01, 1.9318e-04, 6.2254e-04,  ..., 5.0520e-04,\n",
       "          1.2153e-03, 3.0902e-04],\n",
       "         [9.5853e-01, 1.9181e-04, 6.1738e-04,  ..., 5.0945e-04,\n",
       "          1.2197e-03, 3.0913e-04],\n",
       "         [9.5851e-01, 1.8904e-04, 6.2338e-04,  ..., 5.1178e-04,\n",
       "          1.2253e-03, 3.0654e-04]]], grad_fn=<SoftmaxBackward0>)"
      ]
     },
     "execution_count": 25,
     "metadata": {},
     "output_type": "execute_result"
    }
   ],
   "source": [
    "mistral(x).softmax(-1)"
   ]
  },
  {
   "cell_type": "code",
   "execution_count": 26,
   "metadata": {},
   "outputs": [
    {
     "name": "stdout",
     "output_type": "stream",
     "text": [
      "torch.Size([1, 256, 100])\n"
     ]
    }
   ],
   "source": [
    "from mistral import Mistral\n",
    "\n",
    "decoder_layers_num = 2\n",
    "num_hidden = 16\n",
    "num_heads = 4\n",
    "num_kv_heads = 2\n",
    "seq_len = 256\n",
    "vocab_size = 100\n",
    "window_size = 3\n",
    "\n",
    "mistral = Mistral(decoder_layers_num, num_hidden, num_heads, num_kv_heads, seq_len, vocab_size, window_size)\n",
    "\n",
    "x = torch.randint(0, vocab_size, (1, seq_len))\n",
    "\n",
    "output = mistral(x)\n",
    "print(output.shape)"
   ]
  }
 ],
 "metadata": {
  "kernelspec": {
   "display_name": "Python 3",
   "language": "python",
   "name": "python3"
  },
  "language_info": {
   "codemirror_mode": {
    "name": "ipython",
    "version": 3
   },
   "file_extension": ".py",
   "mimetype": "text/x-python",
   "name": "python",
   "nbconvert_exporter": "python",
   "pygments_lexer": "ipython3",
   "version": "3.10.11"
  }
 },
 "nbformat": 4,
 "nbformat_minor": 2
}
