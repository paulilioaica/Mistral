{
 "cells": [
  {
   "cell_type": "code",
   "execution_count": 1,
   "metadata": {},
   "outputs": [],
   "source": [
    "import torch\n",
    "import sys  \n",
    "import os\n",
    "sys.path.append(os.path.join(os.getcwd(), 'src'))  "
   ]
  },
  {
   "cell_type": "code",
   "execution_count": 2,
   "metadata": {},
   "outputs": [],
   "source": [
    "size = 9\n",
    "window_size = 3"
   ]
  },
  {
   "cell_type": "code",
   "execution_count": 3,
   "metadata": {},
   "outputs": [],
   "source": [
    "def get_sliding_window_mask(size, window_size):\n",
    "        # device = next(self.parameters()).device\n",
    "        mask =  torch.triu(torch.ones(size, size), diagonal=-window_size) \\\n",
    "            * torch.tril(torch.ones(size, size), diagonal=window_size)  \n",
    "        return mask"
   ]
  },
  {
   "cell_type": "code",
   "execution_count": 4,
   "metadata": {},
   "outputs": [
    {
     "data": {
      "text/plain": [
       "tensor([[1., 1., 1., 1., 0., 0., 0., 0., 0.],\n",
       "        [1., 1., 1., 1., 1., 0., 0., 0., 0.],\n",
       "        [1., 1., 1., 1., 1., 1., 0., 0., 0.],\n",
       "        [1., 1., 1., 1., 1., 1., 1., 0., 0.],\n",
       "        [0., 1., 1., 1., 1., 1., 1., 1., 0.],\n",
       "        [0., 0., 1., 1., 1., 1., 1., 1., 1.],\n",
       "        [0., 0., 0., 1., 1., 1., 1., 1., 1.],\n",
       "        [0., 0., 0., 0., 1., 1., 1., 1., 1.],\n",
       "        [0., 0., 0., 0., 0., 1., 1., 1., 1.]])"
      ]
     },
     "execution_count": 4,
     "metadata": {},
     "output_type": "execute_result"
    }
   ],
   "source": [
    "get_sliding_window_mask(size, window_size)"
   ]
  },
  {
   "cell_type": "code",
   "execution_count": 5,
   "metadata": {},
   "outputs": [],
   "source": [
    "from mistral import Mistral"
   ]
  },
  {
   "cell_type": "code",
   "execution_count": 6,
   "metadata": {},
   "outputs": [],
   "source": [
    "#decoder_layers_num, num_hidden, num_heads, num_kv_heads, seq_len, vocab_size\n",
    "mistral = Mistral(decoder_layers_num=2, num_hidden=16, num_heads=4, num_kv_heads=2, seq_len=256, vocab_size=100, window_size=3)"
   ]
  },
  {
   "cell_type": "code",
   "execution_count": 8,
   "metadata": {},
   "outputs": [],
   "source": [
    "x = torch.randint(0, 100, (1, 256))"
   ]
  },
  {
   "cell_type": "code",
   "execution_count": 12,
   "metadata": {},
   "outputs": [
    {
     "data": {
      "text/plain": [
       "torch.Size([1, 256, 100])"
      ]
     },
     "execution_count": 12,
     "metadata": {},
     "output_type": "execute_result"
    }
   ],
   "source": [
    "mistral(x).shape"
   ]
  },
  {
   "cell_type": "code",
   "execution_count": 14,
   "metadata": {},
   "outputs": [
    {
     "data": {
      "text/plain": [
       "Mistral(\n",
       "  (model): MistralModel(\n",
       "    (decoders): ModuleList(\n",
       "      (0-1): 2 x MistralLayer(\n",
       "        (grouped_query_attention): GroupedQueryAttention(\n",
       "          (rotary_encodings): RotaryEncodings()\n",
       "          (W_q): Linear(in_features=16, out_features=64, bias=True)\n",
       "          (W_k): Linear(in_features=16, out_features=32, bias=True)\n",
       "          (W_v): Linear(in_features=16, out_features=32, bias=True)\n",
       "          (W_o): Linear(in_features=64, out_features=16, bias=True)\n",
       "          (softmax): Softmax(dim=-1)\n",
       "          (dropout): Dropout(p=0.1, inplace=False)\n",
       "        )\n",
       "        (feed_forward): FeedForward(\n",
       "          (swiglu): SwiGLU(\n",
       "            (silu): SiLU()\n",
       "            (expand_linear): Linear(in_features=32, out_features=64, bias=True)\n",
       "          )\n",
       "          (W_1): Linear(in_features=16, out_features=32, bias=True)\n",
       "          (W_2): Linear(in_features=32, out_features=16, bias=True)\n",
       "        )\n",
       "        (rms_norm1): RMSNorm()\n",
       "        (rms_norm2): RMSNorm()\n",
       "      )\n",
       "    )\n",
       "  )\n",
       "  (embedding): Embedding(100, 16)\n",
       "  (linear): Linear(in_features=16, out_features=100, bias=True)\n",
       "  (rms_norm): RMSNorm()\n",
       ")"
      ]
     },
     "execution_count": 14,
     "metadata": {},
     "output_type": "execute_result"
    }
   ],
   "source": [
    "mistral"
   ]
  }
 ],
 "metadata": {
  "kernelspec": {
   "display_name": "Python 3",
   "language": "python",
   "name": "python3"
  },
  "language_info": {
   "codemirror_mode": {
    "name": "ipython",
    "version": 3
   },
   "file_extension": ".py",
   "mimetype": "text/x-python",
   "name": "python",
   "nbconvert_exporter": "python",
   "pygments_lexer": "ipython3",
   "version": "3.10.11"
  }
 },
 "nbformat": 4,
 "nbformat_minor": 2
}
